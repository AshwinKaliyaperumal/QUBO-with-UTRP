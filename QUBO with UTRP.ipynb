{
 "cells": [
  {
   "cell_type": "markdown",
   "id": "1eeb9208",
   "metadata": {},
   "source": [
    "# Procedure #0 - Setting up the Jupyter Notebook"
   ]
  },
  {
   "cell_type": "markdown",
   "id": "ff7bdc4e",
   "metadata": {},
   "source": [
    "## Import Statements"
   ]
  },
  {
   "cell_type": "code",
   "execution_count": 1,
   "id": "628cfdc6",
   "metadata": {},
   "outputs": [],
   "source": [
    "from collections import deque\n",
    "from dwave.cloud import Client\n",
    "from dwave.samplers import SimulatedAnnealingSampler\n",
    "from networkx import all_shortest_paths, has_path, shortest_path, draw_networkx, average_degree_connectivity\n",
    "from numpy import loadtxt, savetxt\n",
    "from operator import itemgetter\n",
    "from shapely import overlaps, intersects \n",
    "from time import sleep\n",
    "from typing import List"
   ]
  },
  {
   "cell_type": "code",
   "execution_count": 2,
   "id": "eaa5476f",
   "metadata": {},
   "outputs": [],
   "source": [
    "import copy \n",
    "import csv\n",
    "import dimod\n",
    "import geopandas as gpd\n",
    "import gtfs_functions as gtfs\n",
    "import math\n",
    "import matplotlib.cm as cm\n",
    "import matplotlib.pyplot as plt\n",
    "import networkx as nx\n",
    "import numpy as np\n",
    "import osmnx as ox\n",
    "import pyperclip as pc\n",
    "import random\n",
    "import requests\n",
    "import sys\n",
    "import time "
   ]
  },
  {
   "cell_type": "markdown",
   "id": "591c9e7f",
   "metadata": {},
   "source": [
    "## Importing credentials for D-Wave account"
   ]
  },
  {
   "cell_type": "code",
   "execution_count": 3,
   "id": "e9f08161",
   "metadata": {},
   "outputs": [
    {
     "name": "stdout",
     "output_type": "stream",
     "text": [
      "application/vnd.dwave.sapi.problems+json; version=2.1.0; charset=utf-8\n"
     ]
    }
   ],
   "source": [
    "SAPI_HOME = \"https://na-west-1.cloud.dwavesys.com/sapi/v2\"\n",
    "# Replace with your API token\n",
    "SAPI_TOKEN = \"DEV-66c376bfea2ebe6dc3a3c51d452baa586c67e109\"     \n",
    "r = requests.get(f\"{SAPI_HOME}/problems/?max_results=3\", headers={'X-Auth-Token': SAPI_TOKEN})\n",
    "print(r.headers[\"Content-Type\"])   "
   ]
  },
  {
   "cell_type": "markdown",
   "id": "f7c53a6b",
   "metadata": {},
   "source": [
    "## Global Variables"
   ]
  },
  {
   "cell_type": "code",
   "execution_count": 4,
   "id": "772ed6a7",
   "metadata": {},
   "outputs": [],
   "source": [
    "k = 5 # number of nodes each node should be connected to\n",
    "infPlaceholder = 1000 # placeholder for infinity"
   ]
  },
  {
   "cell_type": "markdown",
   "id": "c374cf92",
   "metadata": {},
   "source": [
    "## Global Helper Methods"
   ]
  },
  {
   "cell_type": "markdown",
   "id": "7d767332",
   "metadata": {},
   "source": [
    "### Formats matrix and copies it directly into clipboard"
   ]
  },
  {
   "cell_type": "code",
   "execution_count": 5,
   "id": "86e4d1fa",
   "metadata": {},
   "outputs": [],
   "source": [
    "def print_matrix(A):\n",
    "    pc.copy('\\n\\n'.join([''.join(['{:8}'.format(item) for item in row]) \n",
    "      for row in A]))"
   ]
  },
  {
   "cell_type": "markdown",
   "id": "1d13fcd1",
   "metadata": {},
   "source": [
    "### Prints progress bar for big operations"
   ]
  },
  {
   "cell_type": "code",
   "execution_count": 6,
   "id": "f95f9d83",
   "metadata": {},
   "outputs": [],
   "source": [
    "def print_progress_bar(i, n):\n",
    "    j = (i + 1) / n\n",
    "\n",
    "    sys.stdout.write('\\r')\n",
    "    # the exact output you're looking for:\n",
    "    sys.stdout.write(\"[%-20s] %d%%\" % ('='*int(20*j), 100*j))\n",
    "    sys.stdout.flush()\n",
    "    sleep(0.1)"
   ]
  },
  {
   "cell_type": "markdown",
   "id": "4d9f6f30",
   "metadata": {},
   "source": [
    "# Procedure #1 - The QA UTRP Algorithm"
   ]
  },
  {
   "cell_type": "markdown",
   "id": "08745dd5",
   "metadata": {},
   "source": [
    "## QA UTRP Algorithm Helper Methods"
   ]
  },
  {
   "cell_type": "markdown",
   "id": "992929d6",
   "metadata": {},
   "source": [
    "### Finds maximum theoretical cost of travel time and demand "
   ]
  },
  {
   "cell_type": "code",
   "execution_count": 7,
   "id": "1173f103",
   "metadata": {},
   "outputs": [],
   "source": [
    "def get_max_cost(ttMatrix, demCostMatrix):\n",
    "    V = len(ttMatrix)\n",
    "    max_cost = 0\n",
    "    \n",
    "    # finds max cost\n",
    "    for v in range(V):\n",
    "        print_progress_bar(v, V)\n",
    "        for w in range(V - v): # for every edge\n",
    "            max_cost += (ttMatrix[v][w] * demCostMatrix[v][w]) / scaleFactor\n",
    "    \n",
    "    print()\n",
    "    return max_cost"
   ]
  },
  {
   "cell_type": "markdown",
   "id": "e3fe3ccb",
   "metadata": {},
   "source": [
    "### Gets theta scaling factor to ensure constraints are always met"
   ]
  },
  {
   "cell_type": "code",
   "execution_count": 8,
   "id": "1e514bf1",
   "metadata": {},
   "outputs": [],
   "source": [
    "def get_theta(Q, lenCR):\n",
    "    maxCost = -sys.maxsize\n",
    "    \n",
    "    for i in range(lenCR):\n",
    "        for j in range(lenCR - i):        \n",
    "            temp = abs(Q[i][j + i])\n",
    "            if (temp > maxCost):\n",
    "                maxCost = temp\n",
    "      \n",
    "    print(maxCost)\n",
    "    return maxCost"
   ]
  },
  {
   "cell_type": "markdown",
   "id": "a3b363dc",
   "metadata": {},
   "source": [
    "### Shifts N by N matrix into a dictionary - need to pass dictionary into D-Wave solvers"
   ]
  },
  {
   "cell_type": "code",
   "execution_count": 9,
   "id": "aa75120f",
   "metadata": {},
   "outputs": [],
   "source": [
    "def matrix_dict_shift(Q, lenCR, numRoutes):\n",
    "    dictQ = {}\n",
    "    length = len(Q)\n",
    "    \n",
    "    print(\"Shifting matrix into dictionary form!\")\n",
    "    \n",
    "    # adding all intra-route costs\n",
    "    for i in range(lenCR):\n",
    "        print_progress_bar(i, lenCR)\n",
    "        for j in range(lenCR - i):\n",
    "            cost = Q[i][i + j]\n",
    "            for route in range(numRoutes):\n",
    "                x_index = route * lenCR + i\n",
    "                y_index = route * lenCR + j + i\n",
    "                dictQ[(x_index, y_index)] = cost\n",
    "    \n",
    "    print()    \n",
    "    # adding all inter-route costs\n",
    "    for i in range(lenCR):\n",
    "        print_progress_bar(i, lenCR)\n",
    "        for j in range(lenCR - i):\n",
    "            cost = Q[i][lenCR + i + j]\n",
    "            if (i == i + j):\n",
    "                for index_1 in range(numRoutes - 1):\n",
    "                    x_index = index_1 * lenCR + i\n",
    "                    for index_2 in range(numRoutes - 1 - index_1):\n",
    "                        y_index = (index_1 + index_2) * lenCR + lenCR + j + i\n",
    "                        dictQ[(x_index, y_index)] = cost\n",
    "            else:\n",
    "                dx = i\n",
    "                dy = i + j\n",
    "                for index_1 in range(numRoutes - 1):\n",
    "                    x_index = index_1 * lenCR\n",
    "                    for index_2 in range(numRoutes - 1 - index_1):\n",
    "                        y_index = (index_1 + index_2) * lenCR + lenCR\n",
    "                        dictQ[(x_index + dx, y_index + dy)] = cost   \n",
    "                        dictQ[(x_index + dy, y_index + dy)] = cost\n",
    "    \n",
    "    print()\n",
    "    return dictQ"
   ]
  },
  {
   "cell_type": "markdown",
   "id": "b4c9ba7b",
   "metadata": {},
   "source": [
    "### Creates k-connected graph from a list of bus stops and travel time information"
   ]
  },
  {
   "cell_type": "code",
   "execution_count": 65,
   "id": "3536ccb4",
   "metadata": {},
   "outputs": [],
   "source": [
    "def create_node_graph(nodeIDList, ttMatrix):\n",
    "    G = nx.Graph()\n",
    "    G.add_nodes_from(nodeIDList)\n",
    "    \n",
    "    print(\"Creating connected node graph!\")\n",
    "    length = len(ttMatrix)\n",
    "    for i in range(length):\n",
    "        print_progress_bar(i, length)\n",
    "        for j in range(length - i - 1):\n",
    "            if (ttMatrix[i][i + j + 1] < infPlaceholder):\n",
    "                #print(ttMatrix[i][j])\n",
    "                G.add_edge(nodeIDList[i], nodeIDList[i + j + 1], \n",
    "                           travel_time=ttMatrix[i][i + j + 1])\n",
    "    \n",
    "    return G"
   ]
  },
  {
   "cell_type": "code",
   "execution_count": 10,
   "id": "b836a9c9",
   "metadata": {},
   "outputs": [],
   "source": [
    "# def create_node_graph(nodeIDList, ttMatrix):\n",
    "#     G = nx.Graph()\n",
    "#     G.add_nodes_from(nodeIDList)\n",
    "    \n",
    "#     length = len(ttMatrix)\n",
    "#     for i in range(length):\n",
    "#         knn = []\n",
    "#         for l in range(k):\n",
    "#             for j in range(length):\n",
    "#                 if len(knn) < l + 1:\n",
    "#                     knn.append(j)\n",
    "#                 else:\n",
    "#                     if (i != j) and (j not in knn) and (ttMatrix[i][knn[l]] > ttMatrix[i][j] and \n",
    "#                                                        ttMatrix[i][j] != infPlaceholder):\n",
    "#                         knn[l] = j\n",
    "#         for node in knn:\n",
    "#             G.add_edge(nodeIDList[i], nodeIDList[node], travel_time=ttMatrix[i][node])\n",
    "    \n",
    "#     return G"
   ]
  },
  {
   "cell_type": "markdown",
   "id": "458b0b00",
   "metadata": {},
   "source": [
    "## QA UTRP Objective Function Implementations"
   ]
  },
  {
   "cell_type": "markdown",
   "id": "0063e7b7",
   "metadata": {},
   "source": [
    "### Candidate route generator"
   ]
  },
  {
   "cell_type": "code",
   "execution_count": 61,
   "id": "3305ce97",
   "metadata": {},
   "outputs": [],
   "source": [
    "def generate_routes(G, nodeIDList, tempMissingCRNodes, initial_generate):  \n",
    "    index = 0\n",
    "    missingCRNodes = copy.deepcopy(tempMissingCRNodes)\n",
    "    \n",
    "    candidateRoutes = []\n",
    "    V = len(nodeIDList)\n",
    "    length = V\n",
    "    \n",
    "    tempRoutes = []\n",
    "    \n",
    "    for i in range(V):\n",
    "        for j in range(V - i - 1):\n",
    "            if has_path(G, i, j):\n",
    "                for path in nx.all_simple_paths(G, \n",
    "                                                source=i, \n",
    "                                                target=j, \n",
    "                                                cutoff=maxNodesPerRoute):\n",
    "                    if path not in tempRoutes:\n",
    "                        tempRoutes.append(path)\n",
    "    \n",
    "    candidateRoutes = tempRoutes\n",
    "#     ##print(len(list(tempRoutes.keys())))\n",
    "#     i = 0\n",
    "    \n",
    "#     if initial_generate:\n",
    "#         for source in tempRoutes.keys():\n",
    "#             print_progress_bar(i, length)\n",
    "#             i += 1\n",
    "#             for target in tempRoutes[source]:\n",
    "#                 if source in missingCRNodes and len(tempRoutes[source][target]) >= minNodesPerRoute:\n",
    "#                     candidateRoutes.append(tempRoutes[source][target])\n",
    "#                     missingCRNodes.remove(source)\n",
    "#                 elif len(tempRoutes[source][target]) >= minNodesPerRoute:\n",
    "#                     candidateRoutes.append(tempRoutes[source][target])\n",
    "#     else:\n",
    "#         while len(missingCRNodes) > 0:\n",
    "#             tempRoute = []\n",
    "#             tempIndices = ()\n",
    "#             numNodesFound = 0\n",
    "#             i = 0\n",
    "            \n",
    "#             tempNodesFound = 0\n",
    "            \n",
    "#             for source in tempRoutes.keys():\n",
    "#                 print_progress_bar(i, length)\n",
    "#                 i += 1\n",
    "#                 # for each path from v and w\n",
    "#                 for target in tempRoutes[source]:\n",
    "#                     route = tempRoutes[source][target]\n",
    "#                     for node in missingCRNodes:\n",
    "#                         if node in route:\n",
    "#                             tempNodesFound += 1\n",
    "                    \n",
    "#                     if numNodesFound < tempNodesFound:\n",
    "#                         numNodesFound = tempNodesFound\n",
    "#                         tempIndices = (source, target)\n",
    "#                         tempRoute = route\n",
    "#                     tempNodesFound = 0\n",
    "            \n",
    "#             print()\n",
    "#             # gets rid of all missing nodes that are \"found\"\n",
    "#             for node in missingCRNodes:\n",
    "#                     if node in tempRoute:\n",
    "#                         missingCRNodes.remove(node)\n",
    "            \n",
    "#             candidateRoutes.append(tempRoute) # appends route to candidate routes\n",
    "#             tempRoutes[tempIndices[0]][tempIndices[1]] = [] # makes sure route isn't duplicated\n",
    "#             print(\"Number of missing nodes:\", len(missingCRNodes))\n",
    "        \n",
    "#         for source in tempRoutes.keys():\n",
    "#             print_progress_bar(i, length)\n",
    "#             i += 1\n",
    "#             for target in tempRoutes[source]:\n",
    "#                 if len(tempRoutes[source][target]) >= minNodesPerRoute:\n",
    "#                     candidateRoutes.append(tempRoutes[source][target])\n",
    "    \n",
    "#     print()\n",
    "    return candidateRoutes"
   ]
  },
  {
   "cell_type": "markdown",
   "id": "bf5f2386",
   "metadata": {},
   "source": [
    "### Cost function implementation"
   ]
  },
  {
   "cell_type": "code",
   "execution_count": 12,
   "id": "9efa8425",
   "metadata": {},
   "outputs": [],
   "source": [
    "def cost_function(Q, copyTTMatrix, demCostMatrix, numRoutes, candidateRoutes, nodeIDList, max_cost):\n",
    "    ttMatrix = floyd_warshall(copy.deepcopy(copyTTMatrix))\n",
    "    V = len(ttMatrix)\n",
    "    length = len(Q)\n",
    "    lenCR = len(candidateRoutes)\n",
    "    \n",
    "    # finds cost for each route\n",
    "    for index in range(lenCR): # for each route\n",
    "        print_progress_bar(index, lenCR)\n",
    "        \n",
    "        route = candidateRoutes[index]\n",
    "        tot_cost = 0\n",
    "        \n",
    "        # finds total demand met (-cost) for route\n",
    "        for i in range(len(route)):\n",
    "            for j in range(len(route) - 1):\n",
    "                tot_cost += int((ttMatrix[i][j] * demCostMatrix[i][j]) / scaleFactor)\n",
    "                \n",
    "        cost = max_cost - tot_cost\n",
    "        \n",
    "        # applies cost to all Q[i][j] that contain route\n",
    "        for i in range(numRoutes): # for each bus\n",
    "            tempIndex = i * lenCR + index\n",
    "            for j in range(length - tempIndex): # for each horizontal index\n",
    "                Q[tempIndex][tempIndex + j] += cost\n",
    "            for j in range(tempIndex): # for each vertical index\n",
    "                Q[j][tempIndex] += cost\n",
    "    \n",
    "    print()\n",
    "    # accounts for any shared nodes \n",
    "    for index_1 in range(lenCR): # for each route\n",
    "        print_progress_bar(index_1, lenCR)\n",
    "        \n",
    "        route_1 = candidateRoutes[index_1]\n",
    "        for index_2 in range(lenCR): # for each route\n",
    "            route_2 = candidateRoutes[index_2]\n",
    "            \n",
    "            combined_tot_cost = 0\n",
    "            \n",
    "            # checks if routes are not the same\n",
    "            if not (route_1 == route_2):\n",
    "                shared_nodes = []\n",
    "                \n",
    "                # if route_2 is smaller\n",
    "                if len(route_1) > len(route_2):\n",
    "                    for tempIndex in range(len(route_2)):\n",
    "                        node = route_2[tempIndex]\n",
    "                        if node in route_1:\n",
    "                            shared_nodes.append(node)\n",
    "                # if route_1 is smaller\n",
    "                else:\n",
    "                    for tempIndex in range(len(route_1)):\n",
    "                        node = route_1[tempIndex]\n",
    "                        if node in route_2:\n",
    "                            shared_nodes.append(node)\n",
    "                \n",
    "                # for each shared node, correct the double addition of the cost\n",
    "                shared_nodes_len = len(shared_nodes)\n",
    "                for temp_node_index_1 in range(shared_nodes_len):\n",
    "                    temp_node_1 = shared_nodes[temp_node_index_1]\n",
    "                    crNodeIndex1 = nodeIDList.index(temp_node_1)\n",
    "                    for temp_node_index_2 in range(shared_nodes_len - temp_node_index_1):\n",
    "                        temp_node_2 = shared_nodes[temp_node_index_1 + temp_node_index_2]\n",
    "                        \n",
    "                        crNodeIndex2 = nodeIDList.index(temp_node_2)\n",
    "                        \n",
    "                        combined_tot_cost += int((ttMatrix[crNodeIndex1][crNodeIndex2] * \n",
    "                                               demCostMatrix[crNodeIndex1][crNodeIndex2]) / \n",
    "                                              scaleFactor)\n",
    "                        \n",
    "                # applies correction to matrix\n",
    "                for i in range(numRoutes): # for each bus\n",
    "                    Q[i * lenCR + index_1][i * lenCR + index_2] -= combined_tot_cost\n",
    "            \n",
    "    print()"
   ]
  },
  {
   "cell_type": "markdown",
   "id": "5d86169c",
   "metadata": {},
   "source": [
    "### Constraint 1 implementation - Ensures there are only a certain number of routes that is specified by the user"
   ]
  },
  {
   "cell_type": "code",
   "execution_count": 13,
   "id": "f7cb61b3",
   "metadata": {},
   "outputs": [],
   "source": [
    "def constraint_1(Q, theta, numRoutes, lenCR):\n",
    "                    \n",
    "    for i in range(numRoutes): # for each bus\n",
    "        for j in range(lenCR): # for every route\n",
    "            for k in range(lenCR - j):\n",
    "                if (j == k + j):\n",
    "                    Q[lenCR*i + j][lenCR*i + k + j] += -1 * theta * theta\n",
    "                else:\n",
    "                    Q[lenCR*i + j][lenCR*i + k + j] += 2 * theta * theta\n",
    "                    \n",
    "    print()"
   ]
  },
  {
   "cell_type": "markdown",
   "id": "e68e20ce",
   "metadata": {},
   "source": [
    "### Weight function - increases likelyhood of choosing a route set that visits all nodes at least once"
   ]
  },
  {
   "cell_type": "code",
   "execution_count": 14,
   "id": "970fbd86",
   "metadata": {},
   "outputs": [],
   "source": [
    "def weight(Q, missingNodes, candidateRoutes, numRoutes, theta, nodeIDList):\n",
    "    lenCR = len(candidateRoutes)\n",
    "    length = len(Q)\n",
    "    \n",
    "    for i in range(length):\n",
    "        for j in range(length - i):        \n",
    "            for node in list(missingNodes.keys()):\n",
    "                if ((node in candidateRoutes[i % lenCR]) or \n",
    "                        (node in candidateRoutes[(j + i) % lenCR])):\n",
    "                    if i == j + i:\n",
    "                        Q[i][j + i] *= (1 + missingNodes[node])\n",
    "                    else:\n",
    "                        Q[i][j + i] *= (1 - missingNodes[node])"
   ]
  },
  {
   "cell_type": "code",
   "execution_count": 15,
   "id": "d5160823",
   "metadata": {},
   "outputs": [],
   "source": [
    "# def weight(Q, missingNodes, candidateRoutes, numRoutes, theta, nodeIDList):\n",
    "#     lenCR = len(candidateRoutes)\n",
    "    \n",
    "#     # gets min cost\n",
    "#     minCost = sys.maxsize\n",
    "    \n",
    "#     for i in range(lenCR):\n",
    "#         for j in range(lenCR - i):        \n",
    "#             temp = Q[i][j + i]\n",
    "#             if (temp < minCost):\n",
    "#                 minCost = temp\n",
    "    \n",
    "#     length = len(Q)\n",
    "    \n",
    "#     # creates list of all missing nodes\n",
    "#     missingNodesList = []\n",
    "    \n",
    "#     for node in list(missingNodes.keys()):\n",
    "#         if missingNodes[node] > 0:\n",
    "#             missingNodesList.append(nodeIDList[node])\n",
    "    \n",
    "#     numNodesFound = 0\n",
    "#     tempRouteIndex = -1\n",
    "    \n",
    "#     while len(missingNodesList) > 0:\n",
    "#         # gets route that \"finds\" most of the missing nodes and stores it\n",
    "#         print('Getting route index')\n",
    "#         for route_index in range(lenCR):\n",
    "#             print_progress_bar(route_index, lenCR)\n",
    "            \n",
    "#             tempNodesFound = 0\n",
    "#             route = candidateRoutes[route_index]\n",
    "            \n",
    "#             for node in missingNodesList:\n",
    "#                 if node in route:\n",
    "#                     tempNodesFound += 1\n",
    "            \n",
    "#             if (numNodesFound < tempNodesFound):\n",
    "#                 numNodesFound = tempNodesFound\n",
    "#                 tempRouteIndex = route_index\n",
    "        \n",
    "#         print()\n",
    "#         # gets rid of all missing nodes that are \"found\"\n",
    "#         route = candidateRoutes[tempRouteIndex]\n",
    "#         print(route)\n",
    "#         for node in missingNodesList:\n",
    "#                 if node in route:\n",
    "#                     missingNodesList.remove(node)\n",
    "                \n",
    "#         # weights chosen route\n",
    "#         print('Applying cost!')\n",
    "#         for i in range(numRoutes): # for each bus\n",
    "#             print_progress_bar(i, numRoutes)\n",
    "#             tempIndex = i * lenCR + tempRouteIndex\n",
    "#             for j in range(length - tempIndex): # for each horizontal index\n",
    "#                 Q[tempIndex][tempIndex + j] = 0\n",
    "#             for j in range(tempIndex): # for each vertical index\n",
    "#                 Q[j][tempIndex] = 0\n",
    "            \n",
    "#             Q[tempIndex][tempIndex] = minCost\n",
    "        \n",
    "#         print()\n",
    "#         print('# missing nodes', len(missingNodesList))\n",
    "#         # resets variables\n",
    "#         numNodesFound = 0\n",
    "#         tempRouteIndex = -1"
   ]
  },
  {
   "cell_type": "markdown",
   "id": "d2b5c91f",
   "metadata": {},
   "source": [
    "## Complete QA UTRP Solver"
   ]
  },
  {
   "cell_type": "markdown",
   "id": "2cb03324",
   "metadata": {},
   "source": [
    "### Combines the cost, contraint, and weight functions to create the Q matrix"
   ]
  },
  {
   "cell_type": "code",
   "execution_count": 16,
   "id": "a5e92d5f",
   "metadata": {},
   "outputs": [],
   "source": [
    "def create_qubo_matrix(ttMatrix, demCostMatrix, numRoutes, missingNodes, nodeIDList, max_cost, candidateRoutes):\n",
    "    \n",
    "    lenCR = len(candidateRoutes)\n",
    "    print('Num candidate routes:', lenCR) \n",
    "    \n",
    "    Q = [ [0] * (lenCR  * 2) for i in range(lenCR  * 2)]\n",
    "    Q = np.array(Q)\n",
    "    \n",
    "    print(\"Getting cost\")\n",
    "    theta = 1\n",
    "    cost_function(Q, ttMatrix, demCostMatrix, 2, candidateRoutes, nodeIDList, max_cost)\n",
    "    print(\"Adding constraints\")\n",
    "    #print(missingNodes)\n",
    "    theta = get_theta(Q, lenCR)\n",
    "    weight(Q, missingNodes, candidateRoutes, 2, theta, nodeIDList)\n",
    "    constraint_1(Q, theta, 2, lenCR) # only numRoutes routes outputted\n",
    "    \n",
    "    print_matrix(Q)\n",
    "    print(\"Finished matrix\")\n",
    "    \n",
    "    return matrix_dict_shift(Q, lenCR, numRoutes)"
   ]
  },
  {
   "cell_type": "markdown",
   "id": "f490fcb8",
   "metadata": {},
   "source": [
    "### Plugs Q matrix into D-Waves quantum annealers and optimizes it"
   ]
  },
  {
   "cell_type": "code",
   "execution_count": 17,
   "id": "771e517f",
   "metadata": {},
   "outputs": [],
   "source": [
    "def utrp_solver(ttMatrix, demCostMatrix, numRoutes, missingNodes, nodeIDList, max_cost, candidateRoutes):\n",
    "    \n",
    "    print(\"Starting!\")\n",
    "    Q = create_qubo_matrix(ttMatrix, demCostMatrix, numRoutes, missingNodes, nodeIDList, max_cost, candidateRoutes)\n",
    "    \n",
    "    # classical SA sampler\n",
    "    sampler = SimulatedAnnealingSampler()  \n",
    " \n",
    "    #hybrid quantum-classical QA solver from D-Wave\n",
    "    #from dwave.system import LeapHybridSampler\n",
    "    #sampler = LeapHybridSampler()\n",
    "    \n",
    "    print(\"Converting QUBO to BQM\")\n",
    "    bqm = dimod.BQM.from_qubo(Q)\n",
    "    \n",
    "    print(\"Optimizing!\")\n",
    "    samples = sampler.sample(bqm, num_counts=20)\n",
    "    \n",
    "    print(\"Finished optimization!\")\n",
    "    \n",
    "    return samples"
   ]
  },
  {
   "cell_type": "markdown",
   "id": "c6d4c5d1",
   "metadata": {},
   "source": [
    "### Runner code - Uses travel time and demand info to output a set of optimized routes"
   ]
  },
  {
   "cell_type": "code",
   "execution_count": 62,
   "id": "11fff476",
   "metadata": {},
   "outputs": [],
   "source": [
    "def route_solver(ttMatrix, demCostMatrix, numRoutes, nodeIDList):\n",
    "    missingNodes = {}\n",
    "    foundNodes = {}\n",
    "    for node in range(len(nodeIDList)):\n",
    "        missingNodes[node] = 0\n",
    "        foundNodes[node] = 0\n",
    "    \n",
    "    \n",
    "    count = 1\n",
    "    allNodes = False\n",
    "    cost = 2000\n",
    "    \n",
    "    print('Generating routes!')\n",
    "    G = create_node_graph(nodeIDList, ttMatrix)\n",
    "    draw_networkx(G, with_labels=False, node_size=3, width=0.05)\n",
    "    candidateRoutes = generate_routes(G, nodeIDList, [], True)\n",
    "    \n",
    "    countCRNodes = -1\n",
    "    missingCRNodes = []\n",
    "    \n",
    "    while (countCRNodes != 0 and count < 1):\n",
    "        countCRNodes = 0\n",
    "        for node in nodeIDList:\n",
    "            if not any(node in sublist for sublist in candidateRoutes):\n",
    "                countCRNodes += 1\n",
    "                if node not in missingCRNodes:\n",
    "                    missingCRNodes.append(node)\n",
    "        \n",
    "        print('Num missing candidate route nodes:', countCRNodes)\n",
    "        \n",
    "        if (countCRNodes != 0):\n",
    "            candidateRoutes = generate_routes(G, nodeIDList, missingCRNodes, True)\n",
    "    \n",
    "    print('Number of candidate routes:', len(candidateRoutes))\n",
    "    \n",
    "    print('Getting max cost')\n",
    "    max_cost = get_max_cost(ttMatrix, demCostMatrix)\n",
    "    \n",
    "    missingNodesList = []\n",
    "    \n",
    "    while (not allNodes):\n",
    "        print(\"Run:\", count)\n",
    "        count += 1\n",
    "    \n",
    "        samples = utrp_solver(ttMatrix, demCostMatrix, numRoutes, missingNodes, nodeIDList, max_cost, candidateRoutes)\n",
    "\n",
    "        sample = samples.samples()[0]\n",
    "        V = len(candidateRoutes)\n",
    "        solArray = []\n",
    "        for k in list(sample.keys()):\n",
    "            if (sample[k] == 1):\n",
    "                solArray.append(candidateRoutes[k % V])\n",
    "                for node in candidateRoutes[k % V]:\n",
    "                    foundNodes[nodeIDList.index(node)] = 1\n",
    "\n",
    "        index = 0\n",
    "        numMissingNodes = 0\n",
    "        containsAllNodes = True\n",
    "        for isInRoute in list(foundNodes.values()):\n",
    "            # if node is not in the route set\n",
    "            if isInRoute == 0:\n",
    "                numMissingNodes += 1\n",
    "                missingNodes[index] += 1\n",
    "                missingNodes[index] = round(missingNodes[index], 1)\n",
    "                containsAllNodes = False\n",
    "\n",
    "            index += 1\n",
    "        print('Number of missing nodes:', numMissingNodes)\n",
    "        \n",
    "        print('Number of optimized routes:', len(solArray))\n",
    "        \n",
    "        # creates list of all missing nodes\n",
    "        missingNodesList = []\n",
    "\n",
    "        for node in list(missingNodes.keys()):\n",
    "            if missingNodes[node] > 0:\n",
    "                missingNodesList.append(node)\n",
    "\n",
    "        candidateRoutes = generate_routes(G, nodeIDList, missingNodesList, False)\n",
    "        \n",
    "        if containsAllNodes:\n",
    "#             sample = samples.samples()[0]\n",
    "\n",
    "#             solArray = [] \n",
    "\n",
    "#             for k in list(sample.keys()):\n",
    "#                 if (sample[k] == 1):\n",
    "#                     solArray.append(candidateRoutes[k % V])\n",
    "                    \n",
    "            #if (att(solArray, ttMatrix, demCostMatrix) < 10.7) and (d0(solArray, demCostMatrix) > 0.90):\n",
    "            \n",
    "            allNodes = True\n",
    "        else:\n",
    "            for node in range(len(ttMatrix)):\n",
    "                foundNodes[node] = 0\n",
    "                \n",
    "    return candidateRoutes, samples, missingNodesList"
   ]
  },
  {
   "cell_type": "markdown",
   "id": "8fcbe1c8",
   "metadata": {},
   "source": [
    "# Procedure 2 - Testing QA UTRP Solver on the Mandl's Swiss Road Network Benchmark"
   ]
  },
  {
   "cell_type": "markdown",
   "id": "44fa87e1",
   "metadata": {},
   "source": [
    "## Mandl Swiss benchmark helper methods "
   ]
  },
  {
   "cell_type": "markdown",
   "id": "7a2f5028-59e1-4148-8f58-3d3764792d32",
   "metadata": {
    "tags": []
   },
   "source": [
    "### Floyd-Warshall algorithm for shortest travel distance"
   ]
  },
  {
   "cell_type": "code",
   "execution_count": 19,
   "id": "30de3354-6bce-4a53-9880-ae2095120925",
   "metadata": {},
   "outputs": [],
   "source": [
    "# creates shortest path matrix for every pair of vertices\n",
    "def floyd_warshall(ttMatrix):\n",
    "    V = len(ttMatrix[0]) # number of vertices \n",
    "    minDist = [ [None] * V for i in range(V)] # creates a V*V array \n",
    "    \n",
    "    for i in range(V):\n",
    "        for j in range(V):\n",
    "            minDist[i][j] = ttMatrix[i][j]\n",
    "        \n",
    "    for k in range(V):\n",
    "        for i in range(V):\n",
    "            for j in range(V):\n",
    "                if minDist[i][j] > minDist[i][k] + minDist[k][j]:\n",
    "                    minDist[i][j] = minDist[i][k] + minDist[k][j]\n",
    "                    \n",
    "    return np.array(minDist)"
   ]
  },
  {
   "cell_type": "markdown",
   "id": "86afe568-a1fd-463d-bc4c-155d4b3c9e5d",
   "metadata": {},
   "source": [
    "### Creates list of all pairs of nodes and the number of transfers between them for a certain route set"
   ]
  },
  {
   "cell_type": "code",
   "execution_count": 20,
   "id": "695df9cf-249a-47e9-90a9-f87f799f6fc1",
   "metadata": {},
   "outputs": [],
   "source": [
    "def num_transfers(rSet, index, V):\n",
    "    transferList = [[], [], [], []]\n",
    "    binRSet = []\n",
    "    \n",
    "    ## d0 pairs\n",
    "    for r in rSet:\n",
    "        for i in range(len(r)):\n",
    "            for j in range(len(r)-i-1):\n",
    "                if (r[i], r[i+1+j]) not in transferList[0] and (r[i+1+j], r[i])  not in transferList[0]:\n",
    "                    transferList[0].append((r[i], r[i+1+j]))\n",
    "    \n",
    "    ## d1 pairs \n",
    "    \n",
    "    # creates binary version of route sets\n",
    "    for r in rSet:\n",
    "        tempBinRoute = [0] * V\n",
    "        \n",
    "        for vertex in r:\n",
    "            tempBinRoute[vertex] = 1\n",
    "            \n",
    "        binRSet.append(tempBinRoute)\n",
    "    \n",
    "    for r1 in range(len(rSet) - 1):\n",
    "        for tempRoute in range(len(rSet)-r1-1):\n",
    "            r2 = tempRoute + r1 + 1\n",
    "            isConnected = False\n",
    "            # checks if route sets have one node in common\n",
    "            # if they do, they are connected\n",
    "            for vertex in range(V): \n",
    "                if (binRSet[r1][vertex] == 1 and binRSet[r2][vertex] == 1):\n",
    "                    isConnected = True\n",
    "\n",
    "            # checks all nodes in one route set \n",
    "            # with vertex in other route set that \n",
    "            # isn't in original route set\n",
    "            if (isConnected):\n",
    "                for vertex in range(V):\n",
    "                    if (binRSet[r1][vertex] ^ binRSet[r2][vertex] == 1):\n",
    "                        if (binRSet[r1][vertex] == 1):\n",
    "                            for tempIndex in range(V):\n",
    "                                if (tempIndex != vertex and binRSet[r2][tempIndex] == 1):\n",
    "                                    if ((vertex, tempIndex) not in transferList[0] and (tempIndex, vertex) not in transferList[0] \n",
    "                                        and (vertex, tempIndex) not in transferList[1] and (tempIndex, vertex) not in transferList[1]):\n",
    "                                        transferList[1].append((vertex, tempIndex))\n",
    "                        else:\n",
    "                            for tempIndex in range(V):\n",
    "                                if (tempIndex != vertex and binRSet[r1][tempIndex] == 1):\n",
    "                                    if ((vertex, tempIndex) not in transferList[0] and (tempIndex, vertex) not in transferList[0] \n",
    "                                        and (vertex, tempIndex) not in transferList[1] and (tempIndex, vertex) not in transferList[1]):\n",
    "                                        transferList[1].append((vertex, tempIndex))\n",
    "                                    \n",
    "    \n",
    "    return transferList[index]"
   ]
  },
  {
   "cell_type": "markdown",
   "id": "354d6781",
   "metadata": {},
   "source": [
    "## Methods to calculate performance parameters"
   ]
  },
  {
   "cell_type": "markdown",
   "id": "074da3c5-deca-45ff-89b2-47c358755769",
   "metadata": {},
   "source": [
    "### Average Travel Time (ATT)"
   ]
  },
  {
   "cell_type": "code",
   "execution_count": 21,
   "id": "597124e6-0a1b-42b8-9f41-01403c4a81c6",
   "metadata": {},
   "outputs": [],
   "source": [
    "def att(rSet, ttMatrix, demCostMatrix):\n",
    "    V = len(ttMatrix[0])\n",
    "    transitGraph = [ [sys.maxsize] * V for i in range(V)]\n",
    "    \n",
    "    # creates transit graph w/ travel times\n",
    "    for i in range(V):\n",
    "        transitGraph[i][i] = 0\n",
    "    \n",
    "    for r in rSet:\n",
    "        for j in range(len(r)-1):\n",
    "            tempV1 = r[j]\n",
    "            tempV2 = r[j+1]\n",
    "            transitGraph[tempV1][tempV2] = ttMatrix[tempV1][tempV2]      \n",
    "            transitGraph[tempV2][tempV1] = ttMatrix[tempV2][tempV1]\n",
    "            \n",
    "    # finds min travel time for all pair of vertices  \n",
    "    minDist = floyd_warshall(transitGraph)\n",
    "    \n",
    "    # finds average travel time - only uses upper triangular matrix\n",
    "    ttt = 0\n",
    "    totDemand = 0\n",
    "    for i in range(V):\n",
    "        for j in range(V-i):\n",
    "            ttt += (demCostMatrix[i][j+i] * minDist[i][j+i]) \n",
    "            totDemand += demCostMatrix[i][j+i]\n",
    "            \n",
    "    return ttt/totDemand"
   ]
  },
  {
   "cell_type": "markdown",
   "id": "542872f0-e89b-4989-99c3-66d15ec4eac1",
   "metadata": {},
   "source": [
    "### D0 - demand satisfied w/o transfers"
   ]
  },
  {
   "cell_type": "code",
   "execution_count": 22,
   "id": "fa919bf9-60d7-44ed-b382-366c8bd5cd72",
   "metadata": {},
   "outputs": [],
   "source": [
    "def d0(rSet, demCostMatrix):\n",
    "    V = len(demCostMatrix[0]) # number of vertices \n",
    "    d0Pairs = num_transfers(rSet, 0, V); \n",
    "    \n",
    "    # calculates total demand\n",
    "    totDemand = 0\n",
    "    for i in range(V):\n",
    "        for j in range(V-i):\n",
    "            totDemand += demCostMatrix[i][j+i]\n",
    "    \n",
    "    # calculates d0 as demand nums\n",
    "    totD0 = 0\n",
    "    for pair in d0Pairs:\n",
    "        totD0 += demCostMatrix[pair[0]][pair[1]]\n",
    "                \n",
    "    # returns d0 as a percentage   \n",
    "    return totD0/totDemand "
   ]
  },
  {
   "cell_type": "markdown",
   "id": "79bfbdd1-0427-42eb-ba06-f7864897f596",
   "metadata": {},
   "source": [
    "### D1 - demand satisfied w/ 1 transfer"
   ]
  },
  {
   "cell_type": "code",
   "execution_count": 23,
   "id": "787453d6-9365-429e-9649-ebb2415573fa",
   "metadata": {},
   "outputs": [],
   "source": [
    "def d1(rSet, demCostMatrix):\n",
    "    \n",
    "    V = len(demCostMatrix[0]) # number of vertices \n",
    "    d0Pairs = num_transfers(rSet, 1, V); \n",
    "    \n",
    "    # calculates total demand\n",
    "    totDemand = 0\n",
    "    for i in range(V):\n",
    "        for j in range(V-i):\n",
    "            totDemand += demCostMatrix[i][j+i]\n",
    "        \n",
    "    # calculates d1 as demand nums\n",
    "    totD1 = 0\n",
    "    for pair in d0Pairs:\n",
    "        totD1 += demCostMatrix[pair[0]][pair[1]]\n",
    "                \n",
    "    # returns d1 as a percentage   \n",
    "    return totD1/totDemand "
   ]
  },
  {
   "cell_type": "markdown",
   "id": "66df7546-2bc9-443e-aac7-2170b30403d4",
   "metadata": {},
   "source": [
    "### D2 - demand satisfied w/ 2 transfers"
   ]
  },
  {
   "cell_type": "code",
   "execution_count": 24,
   "id": "c317f93f-5ad3-4058-b7fb-1c6b2e55a576",
   "metadata": {},
   "outputs": [],
   "source": [
    "def d2(rSet, ttMatrix, demCostMatrix):\n",
    "    return 0.0"
   ]
  },
  {
   "cell_type": "markdown",
   "id": "d65c7510-3bb7-4be4-a461-82e551c77e1d",
   "metadata": {},
   "source": [
    "### Dun - demand not satisfied"
   ]
  },
  {
   "cell_type": "code",
   "execution_count": 25,
   "id": "c1b35fe1-47c6-4bd9-893c-27f5c9cc551d",
   "metadata": {},
   "outputs": [],
   "source": [
    "def dun(rSet, ttMatrix, demCostMatrix):\n",
    "    return 1.0 - d0(rSet, demCostMatrix) - d1(rSet, ttMatrix, demCostMatrix) - d2(rSet, ttMatrix, demCostMatrix)"
   ]
  },
  {
   "cell_type": "markdown",
   "id": "23628d12",
   "metadata": {},
   "source": [
    "## Importing Mandl Swiss Road Network Data"
   ]
  },
  {
   "cell_type": "markdown",
   "id": "7d56c3a7",
   "metadata": {},
   "source": [
    "### Travel time data "
   ]
  },
  {
   "cell_type": "code",
   "execution_count": 66,
   "id": "7ccc56a5",
   "metadata": {},
   "outputs": [],
   "source": [
    "ttMatrix = []\n",
    "\n",
    "with open(\"MandlTravelTimes.txt\", 'r') as file:\n",
    "    for line in file:\n",
    "        elements = line.strip().split()\n",
    "        for i in range(len(elements)):\n",
    "            elem = elements[i]\n",
    "            if (elem == \"Inf\"):\n",
    "                elements[i] = infPlaceholder # placeholder for \"biggest number\"\n",
    "            else:\n",
    "                elements[i] = int(elem)\n",
    "        \n",
    "        if (len(elements) > 0):\n",
    "            ttMatrix.append(elements)\n",
    "            \n",
    "ttMatrix = np.array(ttMatrix)"
   ]
  },
  {
   "cell_type": "markdown",
   "id": "9dc1c5d3",
   "metadata": {},
   "source": [
    "### Demand cost data"
   ]
  },
  {
   "cell_type": "code",
   "execution_count": 1,
   "id": "05072176",
   "metadata": {},
   "outputs": [],
   "source": [
    "demCostMatrix = []\n",
    "\n",
    "with open(\"MandlDemand.txt\", 'r') as file:\n",
    "    for line in file:\n",
    "        elements = line.strip().split()\n",
    "        for i in range(len(elements)):\n",
    "            elements[i] = int(elements[i])\n",
    "        \n",
    "        if (len(elements) > 0):\n",
    "            demCostMatrix.append(elements)\n",
    "\n",
    "#demCostMatrix = np.array(demCostMatrix)"
   ]
  },
  {
   "cell_type": "code",
   "execution_count": 2,
   "id": "fd59ff45",
   "metadata": {},
   "outputs": [
    {
     "name": "stdout",
     "output_type": "stream",
     "text": [
      "15570\n"
     ]
    }
   ],
   "source": [
    "print(sum(sum(demCostMatrix,[])))"
   ]
  },
  {
   "cell_type": "markdown",
   "id": "cce2641d",
   "metadata": {},
   "source": [
    "## Getting results for optimized routes from QA UTRP solver and Mandl's Swiss Road Network"
   ]
  },
  {
   "cell_type": "markdown",
   "id": "139f94fd",
   "metadata": {},
   "source": [
    "### Getting one set of optimized routes"
   ]
  },
  {
   "cell_type": "code",
   "execution_count": 68,
   "id": "d2b123ac",
   "metadata": {},
   "outputs": [],
   "source": [
    "# Variable List\n",
    "numRoutes = 4\n",
    "scaleFactor = 100 # scaling factor, ensures no overflow error working with real-world data\n",
    "minNodesPerRoute = 3 # minimum number of nodes for each route\n",
    "maxNodesPerRoute = 8 # maximum number of nodes for each route"
   ]
  },
  {
   "cell_type": "code",
   "execution_count": 69,
   "id": "88c12c4a",
   "metadata": {},
   "outputs": [
    {
     "name": "stdout",
     "output_type": "stream",
     "text": [
      "Generating routes!\n",
      "Creating connected node graph!\n",
      "[====================] 100%Number of candidate routes: 1612\n",
      "Getting max cost\n",
      "[====================] 100%\n",
      "Run: 1\n",
      "Starting!\n",
      "Num candidate routes: 1612\n",
      "Getting cost\n",
      "[                    ] 1%"
     ]
    },
    {
     "ename": "KeyboardInterrupt",
     "evalue": "",
     "output_type": "error",
     "traceback": [
      "\u001b[0;31m---------------------------------------------------------------------------\u001b[0m",
      "\u001b[0;31mKeyboardInterrupt\u001b[0m                         Traceback (most recent call last)",
      "Cell \u001b[0;32mIn[69], line 1\u001b[0m\n\u001b[0;32m----> 1\u001b[0m candidateRoutes, samples, _ \u001b[38;5;241m=\u001b[39m \u001b[43mroute_solver\u001b[49m\u001b[43m(\u001b[49m\u001b[43mttMatrix\u001b[49m\u001b[43m,\u001b[49m\u001b[43m \u001b[49m\n\u001b[1;32m      2\u001b[0m \u001b[43m                                           \u001b[49m\u001b[43mdemCostMatrix\u001b[49m\u001b[43m,\u001b[49m\u001b[43m \u001b[49m\n\u001b[1;32m      3\u001b[0m \u001b[43m                                           \u001b[49m\u001b[43mnumRoutes\u001b[49m\u001b[43m,\u001b[49m\n\u001b[1;32m      4\u001b[0m \u001b[43m                                          \u001b[49m\u001b[38;5;28;43mlist\u001b[39;49m\u001b[43m(\u001b[49m\u001b[43m[\u001b[49m\u001b[43mi\u001b[49m\u001b[43m \u001b[49m\u001b[38;5;28;43;01mfor\u001b[39;49;00m\u001b[43m \u001b[49m\u001b[43mi\u001b[49m\u001b[43m \u001b[49m\u001b[38;5;129;43;01min\u001b[39;49;00m\u001b[43m \u001b[49m\u001b[38;5;28;43mrange\u001b[39;49m\u001b[43m(\u001b[49m\u001b[38;5;28;43mlen\u001b[39;49m\u001b[43m(\u001b[49m\u001b[43mttMatrix\u001b[49m\u001b[43m)\u001b[49m\u001b[43m)\u001b[49m\u001b[43m]\u001b[49m\u001b[43m)\u001b[49m\u001b[43m)\u001b[49m\n",
      "Cell \u001b[0;32mIn[62], line 45\u001b[0m, in \u001b[0;36mroute_solver\u001b[0;34m(ttMatrix, demCostMatrix, numRoutes, nodeIDList)\u001b[0m\n\u001b[1;32m     42\u001b[0m \u001b[38;5;28mprint\u001b[39m(\u001b[38;5;124m\"\u001b[39m\u001b[38;5;124mRun:\u001b[39m\u001b[38;5;124m\"\u001b[39m, count)\n\u001b[1;32m     43\u001b[0m count \u001b[38;5;241m+\u001b[39m\u001b[38;5;241m=\u001b[39m \u001b[38;5;241m1\u001b[39m\n\u001b[0;32m---> 45\u001b[0m samples \u001b[38;5;241m=\u001b[39m \u001b[43mutrp_solver\u001b[49m\u001b[43m(\u001b[49m\u001b[43mttMatrix\u001b[49m\u001b[43m,\u001b[49m\u001b[43m \u001b[49m\u001b[43mdemCostMatrix\u001b[49m\u001b[43m,\u001b[49m\u001b[43m \u001b[49m\u001b[43mnumRoutes\u001b[49m\u001b[43m,\u001b[49m\u001b[43m \u001b[49m\u001b[43mmissingNodes\u001b[49m\u001b[43m,\u001b[49m\u001b[43m \u001b[49m\u001b[43mnodeIDList\u001b[49m\u001b[43m,\u001b[49m\u001b[43m \u001b[49m\u001b[43mmax_cost\u001b[49m\u001b[43m,\u001b[49m\u001b[43m \u001b[49m\u001b[43mcandidateRoutes\u001b[49m\u001b[43m)\u001b[49m\n\u001b[1;32m     47\u001b[0m sample \u001b[38;5;241m=\u001b[39m samples\u001b[38;5;241m.\u001b[39msamples()[\u001b[38;5;241m0\u001b[39m]\n\u001b[1;32m     48\u001b[0m V \u001b[38;5;241m=\u001b[39m \u001b[38;5;28mlen\u001b[39m(candidateRoutes)\n",
      "Cell \u001b[0;32mIn[17], line 4\u001b[0m, in \u001b[0;36mutrp_solver\u001b[0;34m(ttMatrix, demCostMatrix, numRoutes, missingNodes, nodeIDList, max_cost, candidateRoutes)\u001b[0m\n\u001b[1;32m      1\u001b[0m \u001b[38;5;28;01mdef\u001b[39;00m \u001b[38;5;21mutrp_solver\u001b[39m(ttMatrix, demCostMatrix, numRoutes, missingNodes, nodeIDList, max_cost, candidateRoutes):\n\u001b[1;32m      3\u001b[0m     \u001b[38;5;28mprint\u001b[39m(\u001b[38;5;124m\"\u001b[39m\u001b[38;5;124mStarting!\u001b[39m\u001b[38;5;124m\"\u001b[39m)\n\u001b[0;32m----> 4\u001b[0m     Q \u001b[38;5;241m=\u001b[39m \u001b[43mcreate_qubo_matrix\u001b[49m\u001b[43m(\u001b[49m\u001b[43mttMatrix\u001b[49m\u001b[43m,\u001b[49m\u001b[43m \u001b[49m\u001b[43mdemCostMatrix\u001b[49m\u001b[43m,\u001b[49m\u001b[43m \u001b[49m\u001b[43mnumRoutes\u001b[49m\u001b[43m,\u001b[49m\u001b[43m \u001b[49m\u001b[43mmissingNodes\u001b[49m\u001b[43m,\u001b[49m\u001b[43m \u001b[49m\u001b[43mnodeIDList\u001b[49m\u001b[43m,\u001b[49m\u001b[43m \u001b[49m\u001b[43mmax_cost\u001b[49m\u001b[43m,\u001b[49m\u001b[43m \u001b[49m\u001b[43mcandidateRoutes\u001b[49m\u001b[43m)\u001b[49m\n\u001b[1;32m      6\u001b[0m     \u001b[38;5;66;03m# classical SA sampler\u001b[39;00m\n\u001b[1;32m      7\u001b[0m     sampler \u001b[38;5;241m=\u001b[39m SimulatedAnnealingSampler()  \n",
      "Cell \u001b[0;32mIn[16], line 11\u001b[0m, in \u001b[0;36mcreate_qubo_matrix\u001b[0;34m(ttMatrix, demCostMatrix, numRoutes, missingNodes, nodeIDList, max_cost, candidateRoutes)\u001b[0m\n\u001b[1;32m      9\u001b[0m \u001b[38;5;28mprint\u001b[39m(\u001b[38;5;124m\"\u001b[39m\u001b[38;5;124mGetting cost\u001b[39m\u001b[38;5;124m\"\u001b[39m)\n\u001b[1;32m     10\u001b[0m theta \u001b[38;5;241m=\u001b[39m \u001b[38;5;241m1\u001b[39m\n\u001b[0;32m---> 11\u001b[0m \u001b[43mcost_function\u001b[49m\u001b[43m(\u001b[49m\u001b[43mQ\u001b[49m\u001b[43m,\u001b[49m\u001b[43m \u001b[49m\u001b[43mttMatrix\u001b[49m\u001b[43m,\u001b[49m\u001b[43m \u001b[49m\u001b[43mdemCostMatrix\u001b[49m\u001b[43m,\u001b[49m\u001b[43m \u001b[49m\u001b[38;5;241;43m2\u001b[39;49m\u001b[43m,\u001b[49m\u001b[43m \u001b[49m\u001b[43mcandidateRoutes\u001b[49m\u001b[43m,\u001b[49m\u001b[43m \u001b[49m\u001b[43mnodeIDList\u001b[49m\u001b[43m,\u001b[49m\u001b[43m \u001b[49m\u001b[43mmax_cost\u001b[49m\u001b[43m)\u001b[49m\n\u001b[1;32m     12\u001b[0m \u001b[38;5;28mprint\u001b[39m(\u001b[38;5;124m\"\u001b[39m\u001b[38;5;124mAdding constraints\u001b[39m\u001b[38;5;124m\"\u001b[39m)\n\u001b[1;32m     13\u001b[0m \u001b[38;5;66;03m#print(missingNodes)\u001b[39;00m\n",
      "Cell \u001b[0;32mIn[12], line 9\u001b[0m, in \u001b[0;36mcost_function\u001b[0;34m(Q, copyTTMatrix, demCostMatrix, numRoutes, candidateRoutes, nodeIDList, max_cost)\u001b[0m\n\u001b[1;32m      7\u001b[0m \u001b[38;5;66;03m# finds cost for each route\u001b[39;00m\n\u001b[1;32m      8\u001b[0m \u001b[38;5;28;01mfor\u001b[39;00m index \u001b[38;5;129;01min\u001b[39;00m \u001b[38;5;28mrange\u001b[39m(lenCR): \u001b[38;5;66;03m# for each route\u001b[39;00m\n\u001b[0;32m----> 9\u001b[0m     \u001b[43mprint_progress_bar\u001b[49m\u001b[43m(\u001b[49m\u001b[43mindex\u001b[49m\u001b[43m,\u001b[49m\u001b[43m \u001b[49m\u001b[43mlenCR\u001b[49m\u001b[43m)\u001b[49m\n\u001b[1;32m     11\u001b[0m     route \u001b[38;5;241m=\u001b[39m candidateRoutes[index]\n\u001b[1;32m     12\u001b[0m     tot_cost \u001b[38;5;241m=\u001b[39m \u001b[38;5;241m0\u001b[39m\n",
      "Cell \u001b[0;32mIn[6], line 8\u001b[0m, in \u001b[0;36mprint_progress_bar\u001b[0;34m(i, n)\u001b[0m\n\u001b[1;32m      6\u001b[0m sys\u001b[38;5;241m.\u001b[39mstdout\u001b[38;5;241m.\u001b[39mwrite(\u001b[38;5;124m\"\u001b[39m\u001b[38;5;124m[\u001b[39m\u001b[38;5;132;01m%-20s\u001b[39;00m\u001b[38;5;124m] \u001b[39m\u001b[38;5;132;01m%d\u001b[39;00m\u001b[38;5;132;01m%%\u001b[39;00m\u001b[38;5;124m\"\u001b[39m \u001b[38;5;241m%\u001b[39m (\u001b[38;5;124m'\u001b[39m\u001b[38;5;124m=\u001b[39m\u001b[38;5;124m'\u001b[39m\u001b[38;5;241m*\u001b[39m\u001b[38;5;28mint\u001b[39m(\u001b[38;5;241m20\u001b[39m\u001b[38;5;241m*\u001b[39mj), \u001b[38;5;241m100\u001b[39m\u001b[38;5;241m*\u001b[39mj))\n\u001b[1;32m      7\u001b[0m sys\u001b[38;5;241m.\u001b[39mstdout\u001b[38;5;241m.\u001b[39mflush()\n\u001b[0;32m----> 8\u001b[0m sleep(\u001b[38;5;241m0.1\u001b[39m)\n",
      "\u001b[0;31mKeyboardInterrupt\u001b[0m: "
     ]
    },
    {
     "data": {
      "image/png": "[encoded data removed]",
      "text/plain": [
       "<Figure size 640x480 with 1 Axes>"
      ]
     },
     "metadata": {},
     "output_type": "display_data"
    }
   ],
   "source": [
    "candidateRoutes, samples, _ = route_solver(ttMatrix, \n",
    "                                           demCostMatrix, \n",
    "                                           numRoutes,\n",
    "                                          list([i for i in range(len(ttMatrix))]))"
   ]
  },
  {
   "cell_type": "markdown",
   "id": "9fce548d",
   "metadata": {},
   "source": [
    "### Converting D-Wave optimized 'samples' into route set"
   ]
  },
  {
   "cell_type": "code",
   "execution_count": null,
   "id": "3ba3b33a",
   "metadata": {},
   "outputs": [],
   "source": [
    "sample = samples.samples()[0]\n",
    "\n",
    "V = len(candidateRoutes)\n",
    "numRoutes = 4\n",
    "solArray = [] \n",
    "\n",
    "for k in list(sample.keys()):\n",
    "    if (sample[k] == 1):\n",
    "        solArray.append(candidateRoutes[k % V])"
   ]
  },
  {
   "cell_type": "markdown",
   "id": "5ad92cac",
   "metadata": {},
   "source": [
    "### Running performance parameters on optimized route set"
   ]
  },
  {
   "cell_type": "code",
   "execution_count": null,
   "id": "0a50d6bc",
   "metadata": {},
   "outputs": [],
   "source": [
    "quantumRouteSet = solArray\n",
    "    \n",
    "print('Optimized routes:', quantumRouteSet)\n",
    "\n",
    "print('ATT:', att(quantumRouteSet, ttMatrix, demCostMatrix))\n",
    "print('d0:', d0(quantumRouteSet, demCostMatrix))\n",
    "print('d1:', d1(quantumRouteSet, demCostMatrix))"
   ]
  },
  {
   "cell_type": "markdown",
   "id": "235cd779",
   "metadata": {},
   "source": [
    "# Procedure #3 - Testing QA UTRP solver on bus routes in downtown Seattle"
   ]
  },
  {
   "cell_type": "markdown",
   "id": "feac8565",
   "metadata": {},
   "source": [
    "## Importing data about downtown Seattle"
   ]
  },
  {
   "cell_type": "markdown",
   "id": "4278479d",
   "metadata": {},
   "source": [
    "### Creating bounding box variables"
   ]
  },
  {
   "cell_type": "code",
   "execution_count": 32,
   "id": "43c4f474",
   "metadata": {},
   "outputs": [],
   "source": [
    "pi = math.pi\n",
    "\n",
    "dtSeaCoor = (47.61, -122.33)\n",
    "r_earth = 6356700\n",
    "distance = 1200\n",
    "\n",
    "# need to make bounding box of possble lat-long points\n",
    "lat_dx  = (distance / r_earth) * (180 / pi);\n",
    "long_dy = (distance / r_earth) * (180 / pi) / math.cos(dtSeaCoor[0] * pi/180)"
   ]
  },
  {
   "cell_type": "code",
   "execution_count": 33,
   "id": "6aac3574",
   "metadata": {},
   "outputs": [],
   "source": [
    "### Creating OSMnx graph of downtown Seattle"
   ]
  },
  {
   "cell_type": "code",
   "execution_count": 34,
   "id": "69500126",
   "metadata": {},
   "outputs": [
    {
     "data": {
      "image/png": "[encoded data removed]",
      "text/plain": [
       "<Figure size 800x800 with 1 Axes>"
      ]
     },
     "metadata": {},
     "output_type": "display_data"
    }
   ],
   "source": [
    "G = ox.graph_from_point(dtSeaCoor, dist=distance, network_type='drive')\n",
    "fig, ax = ox.plot_graph(G)"
   ]
  },
  {
   "cell_type": "markdown",
   "id": "ad1bb3aa",
   "metadata": {},
   "source": [
    "### Importing all bus stops"
   ]
  },
  {
   "cell_type": "code",
   "execution_count": 35,
   "id": "4a8fc296",
   "metadata": {},
   "outputs": [],
   "source": [
    "nodeIDList = []\n",
    "coorList = []\n",
    "nodeCoorDict = {}\n",
    "\n",
    "with open('stops.txt') as csv_file:\n",
    "    csv_reader = csv.reader(csv_file, delimiter=',')\n",
    "    line_count = 0\n",
    "    for row in csv_reader:\n",
    "        if line_count != 0:\n",
    "            coor = (float(row[2]), float(row[3]))\n",
    "            if ((dtSeaCoor[0] - lat_dx < coor[0] and dtSeaCoor[0] + lat_dx > coor[0]) and\n",
    "                (dtSeaCoor[1] - long_dy < coor[1] and dtSeaCoor[1] + long_dy > coor[1])):\n",
    "                nodeIDList.append(row[0])\n",
    "                coorList.append(coor)\n",
    "                nodeCoorDict[row[0]] = coor\n",
    "                #print(coor)\n",
    "        else:\n",
    "            line_count += 1"
   ]
  },
  {
   "cell_type": "markdown",
   "id": "562436d7",
   "metadata": {},
   "source": [
    "### Creating travel time matrix - don't need to run if data is already saved!"
   ]
  },
  {
   "cell_type": "code",
   "execution_count": 36,
   "id": "7a68fae8",
   "metadata": {},
   "outputs": [
    {
     "name": "stdout",
     "output_type": "stream",
     "text": [
      "Creating transit time matrix!\n",
      "[=====               ] 28%"
     ]
    },
    {
     "ename": "KeyboardInterrupt",
     "evalue": "",
     "output_type": "error",
     "traceback": [
      "\u001b[0;31m---------------------------------------------------------------------------\u001b[0m",
      "\u001b[0;31mKeyboardInterrupt\u001b[0m                         Traceback (most recent call last)",
      "Cell \u001b[0;32mIn[36], line 9\u001b[0m\n\u001b[1;32m      7\u001b[0m \u001b[38;5;28mprint\u001b[39m(\u001b[38;5;124m\"\u001b[39m\u001b[38;5;124mCreating transit time matrix!\u001b[39m\u001b[38;5;124m\"\u001b[39m)\n\u001b[1;32m      8\u001b[0m \u001b[38;5;28;01mfor\u001b[39;00m i \u001b[38;5;129;01min\u001b[39;00m \u001b[38;5;28mrange\u001b[39m(numNodes):\n\u001b[0;32m----> 9\u001b[0m     \u001b[43mprint_progress_bar\u001b[49m\u001b[43m(\u001b[49m\u001b[43mi\u001b[49m\u001b[43m,\u001b[49m\u001b[43m \u001b[49m\u001b[43mnumNodes\u001b[49m\u001b[43m)\u001b[49m\n\u001b[1;32m     11\u001b[0m     \u001b[38;5;28;01mfor\u001b[39;00m j \u001b[38;5;129;01min\u001b[39;00m \u001b[38;5;28mrange\u001b[39m(numNodes \u001b[38;5;241m-\u001b[39m i):\n\u001b[1;32m     12\u001b[0m         \u001b[38;5;28;01mtry\u001b[39;00m:\n",
      "Cell \u001b[0;32mIn[6], line 8\u001b[0m, in \u001b[0;36mprint_progress_bar\u001b[0;34m(i, n)\u001b[0m\n\u001b[1;32m      6\u001b[0m sys\u001b[38;5;241m.\u001b[39mstdout\u001b[38;5;241m.\u001b[39mwrite(\u001b[38;5;124m\"\u001b[39m\u001b[38;5;124m[\u001b[39m\u001b[38;5;132;01m%-20s\u001b[39;00m\u001b[38;5;124m] \u001b[39m\u001b[38;5;132;01m%d\u001b[39;00m\u001b[38;5;132;01m%%\u001b[39;00m\u001b[38;5;124m\"\u001b[39m \u001b[38;5;241m%\u001b[39m (\u001b[38;5;124m'\u001b[39m\u001b[38;5;124m=\u001b[39m\u001b[38;5;124m'\u001b[39m\u001b[38;5;241m*\u001b[39m\u001b[38;5;28mint\u001b[39m(\u001b[38;5;241m20\u001b[39m\u001b[38;5;241m*\u001b[39mj), \u001b[38;5;241m100\u001b[39m\u001b[38;5;241m*\u001b[39mj))\n\u001b[1;32m      7\u001b[0m sys\u001b[38;5;241m.\u001b[39mstdout\u001b[38;5;241m.\u001b[39mflush()\n\u001b[0;32m----> 8\u001b[0m sleep(\u001b[38;5;241m0.1\u001b[39m)\n",
      "\u001b[0;31mKeyboardInterrupt\u001b[0m: "
     ]
    }
   ],
   "source": [
    "numNodes = len(nodeIDList)\n",
    "ttMatrix = [ [0] * numNodes for a in range(numNodes)]\n",
    "\n",
    "G = ox.speed.add_edge_speeds(G) \n",
    "G = ox.add_edge_travel_times(G) # calculates travel times\n",
    "\n",
    "print(\"Creating transit time matrix!\")\n",
    "for i in range(numNodes):\n",
    "    print_progress_bar(i, numNodes)\n",
    "\n",
    "    for j in range(numNodes - i):\n",
    "        try:\n",
    "            point = coorList[i]\n",
    "            point2 = coorList[i + j]\n",
    "            orig_node = ox.nearest_nodes(G, point[1], point[0])\n",
    "            dest_node = ox.nearest_nodes(G, point2[1], point2[0])\n",
    "            shortest_route = nx.shortest_path(G, orig_node, dest_node, weight='travel_time') # finds the shortest path\n",
    "            travel_time_list = ox.utils_graph.get_route_edge_attributes(G, shortest_route, attribute='travel_time')\n",
    "            tot_time = round(sum(travel_time_list), 1) # total travel time (in seconds)\n",
    "            ttMatrix[i][i + j] = tot_time\n",
    "            ttMatrix[i + j][i] = tot_time\n",
    "        except:\n",
    "            ttMatrix[i][i + j] = infPlaceholder\n",
    "            ttMatrix[i + j][i] = infPlaceholder\n",
    "            pass\n",
    "        \n",
    "ttMatrix = np.array(ttMatrix)\n",
    "# save to csv file\n",
    "savetxt('downtownSeattleTravelTimeMatrix.csv', ttMatrix, delimiter=',')"
   ]
  },
  {
   "cell_type": "markdown",
   "id": "37afdd45",
   "metadata": {},
   "source": [
    "### Adding Annual Average Weekday Traffic (AAWT) to graph attributes"
   ]
  },
  {
   "cell_type": "code",
   "execution_count": null,
   "id": "6292729d",
   "metadata": {},
   "outputs": [],
   "source": [
    "boundary_geojson = gpd.read_file('2018_Traffic_Flow_Counts.geojson')\n",
    "\n",
    "def add_AAWDT(G, linestring, AAWDT):\n",
    "    for edge in G.edges():\n",
    "        if (('geometry' in G[edge[0]][edge[1]][0]) and \n",
    "            intersects(ox.utils_geo.round_geometry_coords(G[edge[0]][edge[1]][0]['geometry'], 5), (ox.utils_geo.round_geometry_coords(linestring, 5)))):\n",
    "            \n",
    "            if ('AAWDT' in G[edge[0]][edge[1]][0]):\n",
    "                G[edge[0]][edge[1]][0]['AAWDT'] += AAWDT\n",
    "            else:\n",
    "                G[edge[0]][edge[1]][0]['AAWDT'] = AAWDT\n",
    "\n",
    "print('Applying demand to graph attributes!')\n",
    "for index, row in boundary_geojson.iterrows():\n",
    "    print_progress_bar(index, 1906)\n",
    "     \n",
    "    street = row['geometry']\n",
    "    tempAAWDT = row['AWDT_ROUNDED']\n",
    "    if street.geom_type == 'LineString':\n",
    "        add_AAWDT(G, street, tempAAWDT)\n",
    "    else:\n",
    "        numLines = len(street.geoms)\n",
    "        for line in street.geoms:\n",
    "            add_AAWDT(G, line, tempAAWDT/numLines)"
   ]
  },
  {
   "cell_type": "markdown",
   "id": "e18950dc",
   "metadata": {},
   "source": [
    "### Creating demand cost matrix - don't need to run if data is already saved!"
   ]
  },
  {
   "cell_type": "code",
   "execution_count": null,
   "id": "9b63f975",
   "metadata": {},
   "outputs": [],
   "source": [
    "numNodes = len(nodeIDList)\n",
    "demCostMatrix = [ [0] * numNodes for a in range(numNodes)]\n",
    "print(\"Creating demand cost matrix!\")\n",
    "\n",
    "for coor1 in range(len(coorList)):\n",
    "    print_progress_bar(coor1, numNodes)\n",
    "\n",
    "    for coor2 in range(len(coorList) - coor1):\n",
    "        try:\n",
    "            point = coorList[coor1]\n",
    "            point2 = coorList[coor1 + coor2]\n",
    "            orig_node = ox.nearest_nodes(G, point[1], point[0])# find the nearest node to the end location\n",
    "            dest_node = ox.nearest_nodes(G, point2[1], point2[0])#  find the shortest path\n",
    "            shortest_route = nx.shortest_path(G, orig_node, dest_node, weight='travel_time')\n",
    "            tot_AAWDT = 0\n",
    "            if len(shortest_route) > 1:\n",
    "                for index in range(len(shortest_route) - 1):\n",
    "                    if 'AAWDT' in G[shortest_route[0]][shortest_route[1]][0]:\n",
    "                        tot_AAWDT += G[shortest_route[0]][shortest_route[1]][0]['AAWDT']\n",
    "\n",
    "                #print(G[shortest_route[0]][shortest_route[1]])\n",
    "            demCostMatrix[coor1][coor1 + coor2] = int(tot_AAWDT)\n",
    "            demCostMatrix[coor1 + coor2][coor1] = int(tot_AAWDT)\n",
    "        except:\n",
    "            demCostMatrix[coor1][coor1 + coor2] = 0\n",
    "            demCostMatrix[coor1 + coor2][coor1] = 0\n",
    "            pass\n",
    "        \n",
    "demCostMatrix = np.array(demCostMatrix)\n",
    "# save to csv file\n",
    "savetxt('downtownSeattleDemandCostMatrix.csv', demCostMatrix, delimiter=',')"
   ]
  },
  {
   "cell_type": "markdown",
   "id": "f63064a6",
   "metadata": {},
   "source": [
    "### Loads in saved travel time and demand cost matrix information"
   ]
  },
  {
   "cell_type": "code",
   "execution_count": null,
   "id": "192e2561",
   "metadata": {},
   "outputs": [],
   "source": [
    "numNodes = len(nodeIDList)\n",
    "ttMatrix = loadtxt('downtownSeattleTravelTimeMatrix.csv', delimiter=',')\n",
    "demCostMatrix = loadtxt('downtownSeattleDemandCostMatrix.csv', delimiter=',')\n",
    "print(ttMatrix)\n",
    "print(demCostMatrix)"
   ]
  },
  {
   "cell_type": "markdown",
   "id": "07e35ea6",
   "metadata": {},
   "source": [
    "## Getting results for existing bus routes for downtown Seattle bus routes"
   ]
  },
  {
   "cell_type": "markdown",
   "id": "c34c84de",
   "metadata": {},
   "source": [
    "### Getting routes from shapes.txt file in GTFS folder of downtown Seattle bus route information"
   ]
  },
  {
   "cell_type": "code",
   "execution_count": null,
   "id": "5c6d0cf9",
   "metadata": {},
   "outputs": [],
   "source": [
    "existing_routes = []\n",
    "\n",
    "with open('shapes.txt') as csv_file:\n",
    "    csv_reader = csv.reader(csv_file, delimiter=',')\n",
    "    line_count = 0\n",
    "    \n",
    "    current_shape_id = 0\n",
    "    temp_route_coors = []\n",
    "    count = 0\n",
    "    \n",
    "    for row in csv_reader:\n",
    "        if line_count != 0:\n",
    "            coor = (float(row[2]), float(row[3]))\n",
    "            if ((dtSeaCoor[0] - lat_dx < coor[0] and dtSeaCoor[0] + lat_dx > coor[0]) and\n",
    "                (dtSeaCoor[1] - long_dy < coor[1] and dtSeaCoor[1] + long_dy > coor[1])):\n",
    "                \n",
    "                if (current_shape_id == row[0]):\n",
    "                    if (count % 15 == 0):\n",
    "                        temp_route_coors.append(coor)\n",
    "                else:\n",
    "                    current_shape_id = row[0]\n",
    "                    existing_routes.append(temp_route_coors)\n",
    "                    temp_route_coors = []\n",
    "                    count = 0\n",
    "\n",
    "                count += 1\n",
    "        else:\n",
    "            line_count += 1\n",
    "            \n",
    "existing_routes.remove([])"
   ]
  },
  {
   "cell_type": "markdown",
   "id": "1bc339d8",
   "metadata": {},
   "source": [
    "### Plot all coordinate points of each trip segment"
   ]
  },
  {
   "cell_type": "code",
   "execution_count": null,
   "id": "6787dabd",
   "metadata": {},
   "outputs": [],
   "source": [
    "fig, ax = ox.plot_graph_route(G, shortest_route, show=False, close=False)\n",
    "\n",
    "for route in existing_routes:\n",
    "    for coor in route:\n",
    "        ax.scatter(coor[1], coor[0], c='red')\n",
    "\n",
    "plt.show()"
   ]
  },
  {
   "cell_type": "markdown",
   "id": "592baa75",
   "metadata": {},
   "source": [
    "### Connects all trip shape points into connected segments"
   ]
  },
  {
   "cell_type": "code",
   "execution_count": null,
   "id": "30411175",
   "metadata": {},
   "outputs": [],
   "source": [
    "print_routes_list = []\n",
    "routes_len = []\n",
    "\n",
    "for route_index in range(len(existing_routes)):\n",
    "    print_progress_bar(route_index, len(existing_routes))\n",
    "    \n",
    "    temp_route_list = []\n",
    "    route = existing_routes[route_index]\n",
    "    count = 0\n",
    "    for node_index in range(len(route) - 1):\n",
    "        point = route[node_index]\n",
    "        point2 = route[node_index + 1]\n",
    "        orig_node = ox.nearest_nodes(G, point[1], point[0])\n",
    "        dest_node = ox.nearest_nodes(G, point2[1], point2[0])\n",
    "        \n",
    "        try:\n",
    "            shortest_route = nx.shortest_path(G, orig_node, dest_node, weight='length')\n",
    "            print_routes_list.append(shortest_route)\n",
    "            count += 1\n",
    "        except nx.NetworkXNoPath:\n",
    "            pass\n",
    "    routes_len.append(count)\n",
    "    count = 0\n",
    "\n",
    "print()"
   ]
  },
  {
   "cell_type": "markdown",
   "id": "cb27f1dd",
   "metadata": {},
   "source": [
    "### Converts all connected trip segments into a list of bus stops "
   ]
  },
  {
   "cell_type": "code",
   "execution_count": null,
   "id": "920a1e6a",
   "metadata": {},
   "outputs": [],
   "source": [
    "coorNodeList1 = []\n",
    "\n",
    "for coor in coorList:\n",
    "    coorNodeList1.append(ox.nearest_nodes(G, coor[1], coor[0]))\n",
    "\n",
    "routeSetAsStops = []\n",
    "    \n",
    "for route in print_routes_list:\n",
    "    tempRoute = []\n",
    "    for node in route:\n",
    "        if node in coorNodeList1:\n",
    "            index = coorNodeList1.index(node)\n",
    "            tempRoute.append(index)\n",
    "    \n",
    "    routeSetAsStops.append(tempRoute)"
   ]
  },
  {
   "cell_type": "markdown",
   "id": "680caa9e",
   "metadata": {},
   "source": [
    "### Converts list of bus stop segments into bus routes defined by a list of bus stops"
   ]
  },
  {
   "cell_type": "code",
   "execution_count": null,
   "id": "c0cc81b5",
   "metadata": {},
   "outputs": [],
   "source": [
    "formattedRoutes = []\n",
    "\n",
    "count = 0\n",
    "for length in routes_len:\n",
    "    tempRoute = []\n",
    "    for i in range(length):\n",
    "        for stop in routeSetAsStops[count]:\n",
    "            if len(tempRoute) > 0 and (stop not in tempRoute):\n",
    "                tempRoute.append(stop)\n",
    "            elif len(tempRoute) == 0:\n",
    "                tempRoute.append(stop)\n",
    "        if (tempRoute not in formattedRoutes):\n",
    "            formattedRoutes.append(tempRoute)\n",
    "        count += 1\n",
    "\n",
    "print(formattedRoutes)"
   ]
  },
  {
   "cell_type": "markdown",
   "id": "97e622b7",
   "metadata": {},
   "source": [
    "### Formats demand cost matrix to only include bus stops that existing bus routes meet"
   ]
  },
  {
   "cell_type": "code",
   "execution_count": null,
   "id": "2d90f247",
   "metadata": {},
   "outputs": [],
   "source": [
    "demCostMatrix = loadtxt('downtownSeattleDemandCostMatrix.csv', delimiter=',')\n",
    "\n",
    "missingNodesList = []\n",
    "\n",
    "for stop in range(len(nodeIDList)):\n",
    "    if not any(stop in sublist for sublist in formattedRoutes):\n",
    "        missingNodesList.append(stop)\n",
    "        \n",
    "print(missingNodesList)\n",
    "i = 0\n",
    "for index in missingNodesList:\n",
    "    print_progress_bar(i, len(missingNodesList))\n",
    "    i += 1 \n",
    "    \n",
    "    for j in range(len(demCostMatrix)):\n",
    "        demCostMatrix[index][j] = 0\n",
    "        demCostMatrix[j][index] = 0\n",
    "\n",
    "print()"
   ]
  },
  {
   "cell_type": "markdown",
   "id": "99320b03",
   "metadata": {},
   "source": [
    "### Gets downtown Seattle's existing bus route set statistics"
   ]
  },
  {
   "cell_type": "code",
   "execution_count": null,
   "id": "ebac38ac",
   "metadata": {},
   "outputs": [],
   "source": [
    "# need to convert from seconds to minutes for ATT\n",
    "print(att(formattedRoutes, ttMatrix, demCostMatrix) / 60)\n",
    "\n",
    "num_d0 = d0('ATT:', formattedRoutes, demCostMatrix)\n",
    "print('d0:', num_d0)\n",
    "\n",
    "num_d1 = d1(formattedRoutes, demCostMatrix)\n",
    "print('d1:', num_d1)\n",
    "\n",
    "print(1 - num_d0 - num_d1)"
   ]
  },
  {
   "cell_type": "markdown",
   "id": "f1c7727e",
   "metadata": {},
   "source": [
    "### Plots all existing bus routes into an OSMnx graph of downtown Seattle"
   ]
  },
  {
   "cell_type": "code",
   "execution_count": null,
   "id": "67325eb0",
   "metadata": {},
   "outputs": [],
   "source": [
    "print_routes_list = []\n",
    "\n",
    "for route_index in range(len(formattedRoutes)):\n",
    "    temp_route_list = []\n",
    "    route = formattedRoutes[route_index]\n",
    "    for node_index in range(len(route) - 1):\n",
    "        point = coorList[route[node_index]]\n",
    "        point2 = coorList[route[node_index + 1]]\n",
    "        orig_node = ox.nearest_nodes(G, point[1], point[0])\n",
    "        dest_node = ox.nearest_nodes(G, point2[1], point2[0])\n",
    "        try:\n",
    "            shortest_route = nx.shortest_path(G, orig_node, dest_node, weight='length')\n",
    "            print_routes_list.append(shortest_route)\n",
    "        except nx.NetworkXNoPath:\n",
    "            pass\n",
    "\n",
    "color_list = 'purple'\n",
    "fig, ax = ox.plot_graph_routes(G, print_routes_list, route_colors=color_list)"
   ]
  },
  {
   "cell_type": "markdown",
   "id": "23749ef0",
   "metadata": {},
   "source": [
    "## Getting results for optimized routes from QA UTRP solver for downtown Seattle bus routes"
   ]
  },
  {
   "cell_type": "markdown",
   "id": "d502299c",
   "metadata": {},
   "source": [
    "### Getting one set of optimized routes"
   ]
  },
  {
   "cell_type": "code",
   "execution_count": null,
   "id": "47c0d49c",
   "metadata": {},
   "outputs": [],
   "source": [
    "# Variable List\n",
    "numRoutes = 20\n",
    "scaleFactor = 1000000 # scaling factor, ensures no overflow error working with real-world data"
   ]
  },
  {
   "cell_type": "code",
   "execution_count": null,
   "id": "94a778d3",
   "metadata": {},
   "outputs": [],
   "source": [
    "\n",
    "candidateRoutes, samples, missingNodesList = route_solver(ttMatrix, \n",
    "                                                          demCostMatrix, \n",
    "                                                          numRoutes, \n",
    "                                                          nodeIDList)"
   ]
  },
  {
   "cell_type": "markdown",
   "id": "7b68d512",
   "metadata": {},
   "source": [
    "### Converting D-Wave optimized 'samples' into route set"
   ]
  },
  {
   "cell_type": "code",
   "execution_count": null,
   "id": "086be958",
   "metadata": {},
   "outputs": [],
   "source": [
    "sample = samples.samples()[0]\n",
    "\n",
    "V = len(candidateRoutes)\n",
    "solArray = [] \n",
    "\n",
    "for k in list(sample.keys()):\n",
    "    if (sample[k] == 1):\n",
    "        solArray.append(candidateRoutes[k % V])"
   ]
  },
  {
   "cell_type": "markdown",
   "id": "030fb81d",
   "metadata": {},
   "source": [
    "### Converting optimized bus stop route set into index route set"
   ]
  },
  {
   "cell_type": "code",
   "execution_count": null,
   "id": "6d13f491",
   "metadata": {},
   "outputs": [],
   "source": [
    "quantumRouteSet = []\n",
    "\n",
    "for route in solArray:\n",
    "    tempRoute = []\n",
    "    for node in route:\n",
    "        tempRoute.append(nodeIDList.index(node))\n",
    "    quantumRouteSet.append(tempRoute)\n",
    "    \n",
    "print(quantumRouteSet)"
   ]
  },
  {
   "cell_type": "markdown",
   "id": "dd0bec2c",
   "metadata": {},
   "source": [
    "### Modifying demand cost matrix to only include nodes the optimized route set meets"
   ]
  },
  {
   "cell_type": "code",
   "execution_count": null,
   "id": "3add65b6",
   "metadata": {},
   "outputs": [],
   "source": [
    "i = 0\n",
    "for index in missingNodesList:\n",
    "    print_progress_bar(i, len(missingNodesList))\n",
    "    i += 1 \n",
    "    \n",
    "    for j in range(len(demCostMatrix)):\n",
    "        demCostMatrix[index][j] = 0\n",
    "        demCostMatrix[j][index] = 0\n",
    "\n",
    "print()"
   ]
  },
  {
   "cell_type": "markdown",
   "id": "640d8c2b",
   "metadata": {},
   "source": [
    "### Running performance parameters on optimized route set"
   ]
  },
  {
   "cell_type": "code",
   "execution_count": null,
   "id": "5caf4f98",
   "metadata": {},
   "outputs": [],
   "source": [
    "# need to convert from seconds to minutes for ATT\n",
    "print('ATT:', att(quantumRouteSet, ttMatrix, demCostMatrix) / 60)\n",
    "\n",
    "num_d0 = d0(quantumRouteSet, demCostMatrix)\n",
    "print('d0:', num_d0)\n",
    "\n",
    "num_d1 = d1(quantumRouteSet, demCostMatrix)\n",
    "print('d1:', num_d1)"
   ]
  },
  {
   "cell_type": "markdown",
   "id": "56b00672",
   "metadata": {},
   "source": [
    "### Plotting optimized route set on OSMnx graph of downtown Seattle"
   ]
  },
  {
   "cell_type": "code",
   "execution_count": null,
   "id": "2ad89906",
   "metadata": {},
   "outputs": [],
   "source": [
    "print_routes_list = []\n",
    "\n",
    "for route_index in range(len(quantumRouteSet)):\n",
    "    temp_route_list = []\n",
    "    route = quantumRouteSet[route_index]\n",
    "    for node_index in range(len(route) - 1):\n",
    "        point = coorList[route[node_index]]\n",
    "        point2 = coorList[route[node_index + 1]]\n",
    "        orig_node = ox.nearest_nodes(G, point[1], point[0])\n",
    "        dest_node = ox.nearest_nodes(G, point2[1], point2[0])\n",
    "        \n",
    "        try:\n",
    "            shortest_route = nx.shortest_path(G, orig_node, dest_node, weight='length')\n",
    "            print_routes_list.append(shortest_route)\n",
    "        except nx.NetworkXNoPath:\n",
    "            pass\n",
    "        \n",
    "color_list = 'blue'\n",
    "fig, ax = ox.plot_graph_routes(G, print_routes_list, route_colors=color_list, show=False, close=False)\n",
    "\n",
    "plt.show()"
   ]
  }
 ],
 "metadata": {
  "kernelspec": {
   "display_name": "Python 3 (ipykernel)",
   "language": "python",
   "name": "python3"
  },
  "language_info": {
   "codemirror_mode": {
    "name": "ipython",
    "version": 3
   },
   "file_extension": ".py",
   "mimetype": "text/x-python",
   "name": "python",
   "nbconvert_exporter": "python",
   "pygments_lexer": "ipython3",
   "version": "3.11.0"
  }
 },
 "nbformat": 4,
 "nbformat_minor": 5
}
