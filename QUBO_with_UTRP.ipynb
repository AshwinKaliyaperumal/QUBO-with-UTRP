{
 "cells": [
  {
   "cell_type": "code",
   "execution_count": 1,
   "id": "5700bbe0-18e2-4183-aa0a-5e1b5b53ea0e",
   "metadata": {},
   "outputs": [],
   "source": [
    "import numpy as np\n",
    "import sys\n",
    "frmo dwave.samplers import PlanarGraphSolver"
   ]
  },
  {
   "cell_type": "markdown",
   "id": "f29d272e-b52f-427e-aa3f-35aefca6dbd3",
   "metadata": {
    "tags": []
   },
   "source": [
    "# Procedure #1 - The Algorithm"
   ]
  },
  {
   "cell_type": "code",
   "execution_count": 35,
   "id": "755a5ef0-adff-411d-a64e-2f7cac9ca039",
   "metadata": {},
   "outputs": [],
   "source": [
    "def create_qubo_matrix(ttMatrix, demCostMatrix):\n",
    "    V = len(ttMatrix[0])\n",
    "    numBinVars = int((V * (V-1))/2) # simplified combination formula with r=2    \n",
    "    \n",
    "    Q = [ [0] * (numBinVars * numBinVars) for i in range(numBinVars * numBinVars)]  \n",
    "    \n",
    "    index = 0\n",
    "    for v in range(V-1):\n",
    "        for w in range(V-1-v):\n",
    "            tempDemand = demCostMatrix[v][v+1+w]\n",
    "            for n in range(V-1):\n",
    "                for m in range(V-n-1):\n",
    "                    tempCost = ttMatrix[n][n+1+m] * tempDemand\n",
    "                    for i in range(V*V):\n",
    "                        if (index == i):\n",
    "                            Q[index][i] -= tempCost\n",
    "                        else:\n",
    "                            Q[index][i] += tempCost\n",
    "                            Q[i][index] += tempCost\n",
    "                    index += 1\n",
    "    \n",
    "    return Q"
   ]
  },
  {
   "cell_type": "code",
   "execution_count": 3,
   "id": "b0ddc797-c167-46b5-ba8b-f0ca6267f7a3",
   "metadata": {},
   "outputs": [],
   "source": [
    "def utrp_solver(ttMatrix, demCostMatrix):\n",
    "    \n",
    "    Q = create_qubo_matrix(ttMatrix, demCostMatrix)\n",
    "    \n",
    "    return None"
   ]
  },
  {
   "cell_type": "markdown",
   "id": "c8b9eb94-59b2-443f-be47-b73c686e8146",
   "metadata": {},
   "source": [
    "# Procedure #2: Gathering benchmark data to compare with other UTRP algorithms"
   ]
  },
  {
   "cell_type": "markdown",
   "id": "bdf2eee5-bac8-4d84-9f6e-2e1ec0e3f163",
   "metadata": {},
   "source": [
    "## Methods for performance parameters"
   ]
  },
  {
   "cell_type": "markdown",
   "id": "7a2f5028-59e1-4148-8f58-3d3764792d32",
   "metadata": {},
   "source": [
    "### Floyd-Warshall algorithm for shortest travel distance"
   ]
  },
  {
   "cell_type": "code",
   "execution_count": 4,
   "id": "30de3354-6bce-4a53-9880-ae2095120925",
   "metadata": {},
   "outputs": [],
   "source": [
    "# creates shortest path matrix for every pair of vertices\n",
    "def floyd_warshall(ttMatrix):\n",
    "    V = len(ttMatrix[0]) # number of vertices \n",
    "    minDist = [ [None] * V for i in range(V)] # creates a V*V array \n",
    "    \n",
    "    for i in range(V):\n",
    "        for j in range(V):\n",
    "            minDist[i][j] = ttMatrix[i][j]\n",
    "        \n",
    "    for k in range(V):\n",
    "        for i in range(V):\n",
    "            for j in range(V):\n",
    "                if minDist[i][j] > minDist[i][k] + minDist[k][j]:\n",
    "                    minDist[i][j] = minDist[i][k] + minDist[k][j]\n",
    "                    \n",
    "    return minDist"
   ]
  },
  {
   "cell_type": "markdown",
   "id": "074da3c5-deca-45ff-89b2-47c358755769",
   "metadata": {},
   "source": [
    "### Average Travel Time (ATT)"
   ]
  },
  {
   "cell_type": "code",
   "execution_count": 5,
   "id": "597124e6-0a1b-42b8-9f41-01403c4a81c6",
   "metadata": {},
   "outputs": [],
   "source": [
    "def att(rSet, ttMatrix, demCostMatrix):\n",
    "    V = len(ttMatrix[0])\n",
    "    transitGraph = [ [sys.maxsize] * V for i in range(V)]\n",
    "    \n",
    "    # creates transit graph w/ travel times\n",
    "    for i in range(V):\n",
    "        transitGraph[i][i] = 0\n",
    "    \n",
    "    for r in rSet:\n",
    "        for j in range(len(r)-1):\n",
    "            tempV1 = r[j]\n",
    "            tempV2 = r[j+1]\n",
    "            transitGraph[tempV1][tempV2] = ttMatrix[tempV1][tempV2]      \n",
    "            transitGraph[tempV2][tempV1] = ttMatrix[tempV2][tempV1]\n",
    "            \n",
    "    # finds min travel time for all pair of vertices  \n",
    "    minDist = floyd_warshall(transitGraph)\n",
    "    \n",
    "    # finds average travel time - only uses upper triangular matrix\n",
    "    ttt = 0\n",
    "    totDemand = 0\n",
    "    for i in range(V):\n",
    "        for j in range(V-i):\n",
    "            ttt += (demCostMatrix[i][j+i] * minDist[i][j+i]) \n",
    "            totDemand += demCostMatrix[i][j+i]\n",
    "            \n",
    "    return ttt/totDemand"
   ]
  },
  {
   "cell_type": "markdown",
   "id": "542872f0-e89b-4989-99c3-66d15ec4eac1",
   "metadata": {},
   "source": [
    "### D0 - demand satisfied w/o transfers"
   ]
  },
  {
   "cell_type": "code",
   "execution_count": 6,
   "id": "fa919bf9-60d7-44ed-b382-366c8bd5cd72",
   "metadata": {},
   "outputs": [],
   "source": [
    "def d0(rSet, demCostMatrix):\n",
    "    V = len(ttMatrix[0]) \n",
    "    \n",
    "    # creates copy of cost matrix\n",
    "    copyCostMatrix = [ [0] * V for i in range(V)] # creates a V*V array \n",
    "    for i in range(V):\n",
    "        for j in range(V):\n",
    "            copyCostMatrix[i][j] = demCostMatrix[i][j]\n",
    "    \n",
    "    # calculates total demand\n",
    "    totDemand = 0\n",
    "    for i in range(V):\n",
    "        for j in range(V-i):\n",
    "            totDemand += copyCostMatrix[i][j+i]\n",
    "    \n",
    "    # calculates d0 as demand nums\n",
    "    totD0 = 0\n",
    "    for r in rSet:\n",
    "        for i in range(len(r)):\n",
    "            for j in range(len(r)-i-1):\n",
    "                edge = [r[i], r[i+1+j]]\n",
    "                totD0 += copyCostMatrix[edge[0]][edge[1]]\n",
    "                # makes sure duplicate edges don't get added twice\n",
    "                copyCostMatrix[edge[0]][edge[1]] = 0 \n",
    "                copyCostMatrix[edge[1]][edge[0]] = 0 \n",
    "                \n",
    "    # returns d0 as a percentage   \n",
    "    return totD0/totDemand "
   ]
  },
  {
   "cell_type": "markdown",
   "id": "79bfbdd1-0427-42eb-ba06-f7864897f596",
   "metadata": {},
   "source": [
    "### D1 - demand satisfied w/ 1 transfer"
   ]
  },
  {
   "cell_type": "code",
   "execution_count": null,
   "id": "787453d6-9365-429e-9649-ebb2415573fa",
   "metadata": {},
   "outputs": [],
   "source": []
  },
  {
   "cell_type": "markdown",
   "id": "66df7546-2bc9-443e-aac7-2170b30403d4",
   "metadata": {},
   "source": [
    "### D2 - demand satisfied w/ 2 transfers"
   ]
  },
  {
   "cell_type": "code",
   "execution_count": null,
   "id": "c317f93f-5ad3-4058-b7fb-1c6b2e55a576",
   "metadata": {},
   "outputs": [],
   "source": []
  },
  {
   "cell_type": "markdown",
   "id": "d65c7510-3bb7-4be4-a461-82e551c77e1d",
   "metadata": {},
   "source": [
    "### Dun - demand not satisfied"
   ]
  },
  {
   "cell_type": "code",
   "execution_count": null,
   "id": "c1b35fe1-47c6-4bd9-893c-27f5c9cc551d",
   "metadata": {},
   "outputs": [],
   "source": []
  },
  {
   "cell_type": "markdown",
   "id": "242a0077-17e1-4e84-ab56-5354e408681e",
   "metadata": {},
   "source": [
    "## Import and format data for travel time and travel demand for Mandl's Swiss Network"
   ]
  },
  {
   "cell_type": "code",
   "execution_count": 38,
   "id": "dd519dc6-2d5e-4288-9f36-30af7a086436",
   "metadata": {},
   "outputs": [
    {
     "name": "stdout",
     "output_type": "stream",
     "text": [
      "11025\n"
     ]
    }
   ],
   "source": [
    "testRSet = [[13, 9, 10, 11, 3, 1, 2, 5], \n",
    "            [0, 1, 2, 5, 7, 14, 6, 9], \n",
    "            [8, 14, 5, 7, 9, 13, 12, 10], \n",
    "            [0, 1, 4, 3, 11, 10, 9, 12]]\n",
    "\n",
    "ttMatrix = []\n",
    "\n",
    "with open(\"MandlTravelTimes.txt\", 'r') as file:\n",
    "    for line in file:\n",
    "        elements = line.strip().split()\n",
    "        for i in range(len(elements)):\n",
    "            elem = elements[i]\n",
    "            if (elem == \"Inf\"):\n",
    "                elements[i] = sys.maxsize\n",
    "            else:\n",
    "                elements[i] = int(elem)\n",
    "        \n",
    "        if (len(elements) > 0):\n",
    "            ttMatrix.append(elements)\n",
    "    \n",
    "demCostMatrix = []\n",
    "\n",
    "with open(\"MandlDemand.txt\", 'r') as file:\n",
    "    for line in file:\n",
    "        elements = line.strip().split()\n",
    "        for i in range(len(elements)):\n",
    "            elements[i] = int(elements[i])\n",
    "        \n",
    "        if (len(elements) > 0):\n",
    "            demCostMatrix.append(elements)\n",
    "\n",
    "#print(att(testRSet, ttMatrix, demCostMatrix)) # works!\n",
    "#print(d0(testRSet, demCostMatrix)) # works !\n",
    "#print(len(create_qubo_matrix(ttMatrix, demCostMatrix))) # maybe works"
   ]
  },
  {
   "cell_type": "markdown",
   "id": "01acb2dd-711d-46ff-ba75-954d66a36158",
   "metadata": {},
   "source": [
    "## Run algorithm and get results for Procedure #2"
   ]
  },
  {
   "cell_type": "code",
   "execution_count": null,
   "id": "e699c658-1b8b-4900-a525-ffb70e79e244",
   "metadata": {},
   "outputs": [],
   "source": []
  },
  {
   "cell_type": "markdown",
   "id": "51646b5f-1a37-4c64-b943-e32b30b4290c",
   "metadata": {},
   "source": [
    "# Procedure #3 – Testing my algorithm on bus routes in downtown Seattle"
   ]
  },
  {
   "cell_type": "markdown",
   "id": "79bf9732-1003-4a5e-b95e-67681274af5e",
   "metadata": {},
   "source": [
    "## OSMnx graph of downtown Seattle"
   ]
  },
  {
   "cell_type": "markdown",
   "id": "f569a2f1-bb87-4954-a4bd-7e637d9494c7",
   "metadata": {},
   "source": [
    "## Create transit time matrix"
   ]
  },
  {
   "cell_type": "markdown",
   "id": "05f2a5a0-ef3a-4340-be8b-65eb8c8da69e",
   "metadata": {},
   "source": [
    "## Create travel demand cost matrix"
   ]
  },
  {
   "cell_type": "markdown",
   "id": "5ee1e324-bc53-4c39-8764-3a2c50748643",
   "metadata": {},
   "source": [
    "## Run algorithm and get results for Procedure #3"
   ]
  },
  {
   "cell_type": "code",
   "execution_count": null,
   "id": "18b4eb1f-6bb6-491b-a177-f53c87895d46",
   "metadata": {},
   "outputs": [],
   "source": []
  },
  {
   "cell_type": "code",
   "execution_count": null,
   "id": "812a0057-bf43-4a87-8fb3-8f87a7a82e26",
   "metadata": {},
   "outputs": [],
   "source": []
  },
  {
   "cell_type": "code",
   "execution_count": null,
   "id": "eee827d3-f55a-48b4-96f4-d6940503079f",
   "metadata": {},
   "outputs": [],
   "source": []
  }
 ],
 "metadata": {
  "kernelspec": {
   "display_name": "Python 3 (ipykernel)",
   "language": "python",
   "name": "python3"
  },
  "language_info": {
   "codemirror_mode": {
    "name": "ipython",
    "version": 3
   },
   "file_extension": ".py",
   "mimetype": "text/x-python",
   "name": "python",
   "nbconvert_exporter": "python",
   "pygments_lexer": "ipython3",
   "version": "3.9.12"
  }
 },
 "nbformat": 4,
 "nbformat_minor": 5
}
